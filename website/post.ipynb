{
 "cells": [
  {
   "cell_type": "markdown",
   "metadata": {},
   "source": [
    "# Imputing land values to the FRS"
   ]
  },
  {
   "cell_type": "code",
   "execution_count": 16,
   "metadata": {},
   "outputs": [
    {
     "output_type": "stream",
     "name": "stderr",
     "text": [
      "/home/mghenis/anaconda3/lib/python3.7/site-packages/IPython/core/interactiveshell.py:3166: DtypeWarning: Columns (16,17,18,19,20,21,22,23,24,25,26,27,28,29,30,31,32,33,34,35,36,37,38,39,40,41,42,43,44,45,46,47,48,49,50,51,52,53,54,55,56,57,58,59,60,61,62,63,64,65,66,67,68,69,70,71,72,73,74,75,76,77,78,79,80,81,82,83,84,85,86,87,88,89,90,91,92,93,94,95,96,97,98,99,100,101,102,103,104,105,106,107,108,109,110,111,112,113,114,115,116,117,118,119,120,121,122,123,124,125,126,127,128,129,130,131,132,133,134,135,136,137,138,139,140,141,142,143,144,145,146,147,148,149,150,151,152,153,154,155,156,157,158,159,160,161,162,163,164,165,166,167,168,169,170,171,172,173,174,175,176,177,178,179,180,181,182,183,184,185,186,187,188,189,190,191,192,193,194,195,196,197,198,199,200,201,202,203,204,205,206,207,208,209,210,211,212,213,214,215,216,217,218,219,220,221,222,223,224,225,226,227,228,229,230,231,232,233,234,235,236,237,238,239,240,241,242,243,244,245,246,247,248,249,250,251,252,253,254,255,256,257,258,259,260,261,262,263,264,265,266,267,268,269,270,271,272,273,274,275,276,277,278,279,280,281,282,283,284,285,286,287,288,289,290,291,292,293,294,295,296,297,298,299,300,301,302,303,304,305,306,307,308,309,310,311,312,313,314,315,316,317,318,319,320,321,322,323,324,325,326,327,328,329,330,331,332,333,334,335,336,337,338,339,340,341,342,343,344,345,346,347,348,349,350,351,352,353,354,355,356,357,358,359,360,361,362,363,364,365,366,367,368,369,370,371,372,373,374,375,376,377,378,379,380,381,382,383,384,385,386,387,388,389,390,391,392,393,394,395,396,397,398,399,400,401,402,403,404,405,406,407,408,409,410,411,412,413,414,415,416,417,418,419,420,421,422,423,424,425,426,427,428,429,430,431,432,433,434,435,436,437,438,439,440,441,442,444,445,446,447,448,449,450,451,452,453,454,455,456,457,458,459,460,461,462,463,464,465,466,467,468,469,471,472,473,474,475,476,477,478,479,480,481,482,483,484,485,486,487,488,489,490,491,492,493,494,495,496,497,498,499,500,501,502,503,504,505,506,507,508,509,510,511,512,513,514,515,516,517,518,519,520,521,522,523,524,525,526,527,528,529,530,531,532,533,534,535,536,537,538,539,540,541,542,543,544,545,546,547,548,549,550,551,552,553,554,555,556,557,558,559,560,561,562,563,564,565,566,567,568,569,570,571,572,573,574,575,576,577,578,579,580,581,582,583,584,585,586,587,588,589,590,591,592,593,594,595,596,597,598,599,600,601,602,603,604,605,606,607,608,609,610,611,612,613,614,615,616,617,618,619,620,621,622,623,624,625,626,627,628,629,630,631,632,633,634,635,636,637,638,639,640,641,642,643,644,645,646) have mixed types.Specify dtype option on import or set low_memory=False.\n  interactivity=interactivity, compiler=compiler, result=result)\n"
     ]
    }
   ],
   "source": [
    "import plotly.express as px\n",
    "from ubicenter import format_fig\n",
    "import numpy as np\n",
    "import pandas as pd\n",
    "import microdf as mdf\n",
    "import synthimpute as si\n",
    "import sklearn\n",
    "\n",
    "df = pd.read_csv(\"~/was_wave_5_hhold_eul_sept_2020.tab\", delimiter=\"\\t\")\n"
   ]
  },
  {
   "cell_type": "code",
   "execution_count": 39,
   "metadata": {},
   "outputs": [],
   "source": [
    "df = df.replace(\" \", 0).astype(float)\n",
    "\n",
    "WEIGHT = \"w5xshhwgt\"\n",
    "\n",
    "train, test = sklearn.model_selection.train_test_split(df)"
   ]
  },
  {
   "cell_type": "code",
   "execution_count": 40,
   "metadata": {},
   "outputs": [
    {
     "output_type": "execute_result",
     "data": {
      "text/plain": [
       "12640.300746436631"
      ]
     },
     "metadata": {},
     "execution_count": 40
    }
   ],
   "source": [
    "mdf.weighted_sum(df, \"TotWlthW5\", \"w5xshhwgt\") / 1e9"
   ]
  },
  {
   "cell_type": "code",
   "execution_count": 41,
   "metadata": {},
   "outputs": [],
   "source": [
    "TRAIN_COLS = [\n",
    "    \"DVTotNIRW5\",  # Household gross income.\n",
    "    # \"DVTotGIRW5\",  # Household net income.\n",
    "]\n",
    "\n",
    "IMPUTE_COLS = [\n",
    "    \"TotWlthW5\",  # Total wealth.\n",
    "]"
   ]
  },
  {
   "cell_type": "code",
   "execution_count": 44,
   "metadata": {},
   "outputs": [
    {
     "output_type": "stream",
     "name": "stderr",
     "text": [
      "/home/mghenis/anaconda3/lib/python3.7/site-packages/synthimpute/rf_impute.py:73: DataConversionWarning: A column-vector y was passed when a 1d array was expected. Please change the shape of y to (n_samples,), for example using ravel().\n",
      "  rf.fit(x_train, y_train, sample_weight=sample_weight_train)\n",
      "/home/mghenis/anaconda3/lib/python3.7/site-packages/ipykernel_launcher.py:5: SettingWithCopyWarning: \n",
      "A value is trying to be set on a copy of a slice from a DataFrame.\n",
      "Try using .loc[row_indexer,col_indexer] = value instead\n",
      "\n",
      "See the caveats in the documentation: https://pandas.pydata.org/pandas-docs/stable/user_guide/indexing.html#returning-a-view-versus-a-copy\n",
      "  \"\"\"\n"
     ]
    }
   ],
   "source": [
    "test[\"pred_wealth\"] = si.rf_impute(\n",
    "    x_train=train[TRAIN_COLS],\n",
    "    y_train=train[IMPUTE_COLS],\n",
    "    x_new=test[TRAIN_COLS],\n",
    "    sample_weight_train=train[WEIGHT],\n",
    ")"
   ]
  },
  {
   "cell_type": "code",
   "execution_count": 46,
   "metadata": {},
   "outputs": [
    {
     "output_type": "execute_result",
     "data": {
      "text/plain": [
       "       DVTotNIRW5   pred_wealth\n",
       "10454     17200.0  1.524809e+05\n",
       "11367     14000.0  2.516482e+05\n",
       "7552      56100.0  5.508292e+05\n",
       "17891     87400.0  1.191353e+06\n",
       "5883      38500.0  5.762272e+05\n",
       "...           ...           ...\n",
       "10066     32000.0  5.526614e+05\n",
       "18802      7680.0  1.037723e+04\n",
       "18006     47900.0  6.614380e+05\n",
       "13934     27400.0  2.970193e+05\n",
       "11951     15700.0  1.613716e+05\n",
       "\n",
       "[4702 rows x 2 columns]"
      ],
      "text/html": "<div>\n<style scoped>\n    .dataframe tbody tr th:only-of-type {\n        vertical-align: middle;\n    }\n\n    .dataframe tbody tr th {\n        vertical-align: top;\n    }\n\n    .dataframe thead th {\n        text-align: right;\n    }\n</style>\n<table border=\"1\" class=\"dataframe\">\n  <thead>\n    <tr style=\"text-align: right;\">\n      <th></th>\n      <th>DVTotNIRW5</th>\n      <th>pred_wealth</th>\n    </tr>\n  </thead>\n  <tbody>\n    <tr>\n      <th>10454</th>\n      <td>17200.0</td>\n      <td>1.524809e+05</td>\n    </tr>\n    <tr>\n      <th>11367</th>\n      <td>14000.0</td>\n      <td>2.516482e+05</td>\n    </tr>\n    <tr>\n      <th>7552</th>\n      <td>56100.0</td>\n      <td>5.508292e+05</td>\n    </tr>\n    <tr>\n      <th>17891</th>\n      <td>87400.0</td>\n      <td>1.191353e+06</td>\n    </tr>\n    <tr>\n      <th>5883</th>\n      <td>38500.0</td>\n      <td>5.762272e+05</td>\n    </tr>\n    <tr>\n      <th>...</th>\n      <td>...</td>\n      <td>...</td>\n    </tr>\n    <tr>\n      <th>10066</th>\n      <td>32000.0</td>\n      <td>5.526614e+05</td>\n    </tr>\n    <tr>\n      <th>18802</th>\n      <td>7680.0</td>\n      <td>1.037723e+04</td>\n    </tr>\n    <tr>\n      <th>18006</th>\n      <td>47900.0</td>\n      <td>6.614380e+05</td>\n    </tr>\n    <tr>\n      <th>13934</th>\n      <td>27400.0</td>\n      <td>2.970193e+05</td>\n    </tr>\n    <tr>\n      <th>11951</th>\n      <td>15700.0</td>\n      <td>1.613716e+05</td>\n    </tr>\n  </tbody>\n</table>\n<p>4702 rows × 2 columns</p>\n</div>"
     },
     "metadata": {},
     "execution_count": 46
    }
   ],
   "source": [
    "test[TRAIN_COLS + [\"pred_wealth\"]]"
   ]
  },
  {
   "cell_type": "code",
   "execution_count": null,
   "metadata": {},
   "outputs": [],
   "source": []
  }
 ],
 "metadata": {
  "interpreter": {
   "hash": "4a68920d8e8856d089b03c157a7384bba62e0986489c1fa381bbe538cda0922c"
  },
  "kernelspec": {
   "name": "python3",
   "display_name": "Python 3.7.7 64-bit ('base': conda)"
  },
  "language_info": {
   "codemirror_mode": {
    "name": "ipython",
    "version": 3
   },
   "file_extension": ".py",
   "mimetype": "text/x-python",
   "name": "python",
   "nbconvert_exporter": "python",
   "pygments_lexer": "ipython3",
   "version": "3.7.7"
  }
 },
 "nbformat": 4,
 "nbformat_minor": 4
}