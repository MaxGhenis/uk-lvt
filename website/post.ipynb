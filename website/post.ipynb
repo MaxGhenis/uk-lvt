{
 "cells": [
  {
   "cell_type": "markdown",
   "metadata": {},
   "source": [
    "# Imputing land values to the FRS"
   ]
  },
  {
   "cell_type": "code",
   "execution_count": 13,
   "metadata": {},
   "outputs": [],
   "source": [
    "import plotly.express as px\n",
    "from ubicenter import format_fig\n",
    "import numpy as np\n",
    "import pandas as pd\n",
    "import microdf as mdf\n",
    "import synthimpute as si\n",
    "import sklearn"
   ]
  },
  {
   "cell_type": "code",
   "execution_count": 14,
   "metadata": {},
   "outputs": [],
   "source": [
    "was = pd.read_csv(\"~/was.csv\")"
   ]
  },
  {
   "cell_type": "code",
   "execution_count": 15,
   "metadata": {},
   "outputs": [
    {
     "output_type": "execute_result",
     "data": {
      "text/plain": [
       "0.6154105080884578"
      ]
     },
     "metadata": {},
     "execution_count": 15
    }
   ],
   "source": [
    "mdf.gini(was, \"wealth\", \"weight\")"
   ]
  },
  {
   "cell_type": "code",
   "execution_count": 16,
   "metadata": {},
   "outputs": [
    {
     "output_type": "execute_result",
     "data": {
      "text/plain": [
       "0.6158429149616598"
      ]
     },
     "metadata": {},
     "execution_count": 16
    }
   ],
   "source": [
    "mdf.gini(was, \"est_land\", \"weight\")"
   ]
  },
  {
   "cell_type": "code",
   "execution_count": 17,
   "metadata": {},
   "outputs": [],
   "source": [
    "train, test = sklearn.model_selection.train_test_split(was)"
   ]
  },
  {
   "cell_type": "code",
   "execution_count": 18,
   "metadata": {},
   "outputs": [],
   "source": [
    "TRAIN_COLS = [\n",
    "    \"gross_income\",  # Household gross income.\n",
    "    \"DVTotGIRW5\",  # Household net income.\n",
    "]\n",
    "\n",
    "IMPUTE_COLS = [\n",
    "    \"est_land\",  # Total wealth.\n",
    "]"
   ]
  },
  {
   "cell_type": "code",
   "execution_count": 19,
   "metadata": {},
   "outputs": [],
   "source": [
    "test[\"pred_land\"] = si.rf_impute(\n",
    "    x_train=train[TRAIN_COLS],\n",
    "    y_train=train[IMPUTE_COLS],\n",
    "    x_new=test[TRAIN_COLS],\n",
    "    sample_weight_train=train.weight,\n",
    ")"
   ]
  },
  {
   "cell_type": "code",
   "execution_count": 20,
   "metadata": {},
   "outputs": [
    {
     "output_type": "execute_result",
     "data": {
      "text/plain": [
       "       gross_income      pred_land\n",
       "16311       42900.0  112654.812657\n",
       "16201       80400.0  895519.259239\n",
       "5007        66300.0  158894.395150\n",
       "3860        63000.0  352006.028309\n",
       "8055        31100.0  139746.528842\n",
       "...             ...            ...\n",
       "13535       63100.0  188376.306759\n",
       "2002       157000.0  759201.000637\n",
       "11573       22100.0  211350.180626\n",
       "16451       41600.0  202036.905561\n",
       "1091        53400.0  337009.824954\n",
       "\n",
       "[4508 rows x 2 columns]"
      ],
      "text/html": "<div>\n<style scoped>\n    .dataframe tbody tr th:only-of-type {\n        vertical-align: middle;\n    }\n\n    .dataframe tbody tr th {\n        vertical-align: top;\n    }\n\n    .dataframe thead th {\n        text-align: right;\n    }\n</style>\n<table border=\"1\" class=\"dataframe\">\n  <thead>\n    <tr style=\"text-align: right;\">\n      <th></th>\n      <th>gross_income</th>\n      <th>pred_land</th>\n    </tr>\n  </thead>\n  <tbody>\n    <tr>\n      <th>16311</th>\n      <td>42900.0</td>\n      <td>112654.812657</td>\n    </tr>\n    <tr>\n      <th>16201</th>\n      <td>80400.0</td>\n      <td>895519.259239</td>\n    </tr>\n    <tr>\n      <th>5007</th>\n      <td>66300.0</td>\n      <td>158894.395150</td>\n    </tr>\n    <tr>\n      <th>3860</th>\n      <td>63000.0</td>\n      <td>352006.028309</td>\n    </tr>\n    <tr>\n      <th>8055</th>\n      <td>31100.0</td>\n      <td>139746.528842</td>\n    </tr>\n    <tr>\n      <th>...</th>\n      <td>...</td>\n      <td>...</td>\n    </tr>\n    <tr>\n      <th>13535</th>\n      <td>63100.0</td>\n      <td>188376.306759</td>\n    </tr>\n    <tr>\n      <th>2002</th>\n      <td>157000.0</td>\n      <td>759201.000637</td>\n    </tr>\n    <tr>\n      <th>11573</th>\n      <td>22100.0</td>\n      <td>211350.180626</td>\n    </tr>\n    <tr>\n      <th>16451</th>\n      <td>41600.0</td>\n      <td>202036.905561</td>\n    </tr>\n    <tr>\n      <th>1091</th>\n      <td>53400.0</td>\n      <td>337009.824954</td>\n    </tr>\n  </tbody>\n</table>\n<p>4508 rows × 2 columns</p>\n</div>"
     },
     "metadata": {},
     "execution_count": 20
    }
   ],
   "source": [
    "test[TRAIN_COLS + [\"pred_land\"]]"
   ]
  },
  {
   "cell_type": "code",
   "execution_count": 21,
   "metadata": {},
   "outputs": [],
   "source": [
    "from openfisca_uk import Microsimulation\n",
    "\n",
    "sim = Microsimulation(year=2020)"
   ]
  },
  {
   "cell_type": "code",
   "execution_count": 22,
   "metadata": {},
   "outputs": [],
   "source": [
    "frs = sim.df([\"gross_income\", \"pension_income\", \"net_income\", \"num_adults\", \"num_children\", \"people\", \"savings_interest_income\", \"dividend_income\", \"employment_income\", \"self_employment_income\"], map_to=\"household\")\n",
    "frs[\"investment_income\"] = frs.savings_interest_income + frs.dividend_income"
   ]
  },
  {
   "cell_type": "code",
   "execution_count": 23,
   "metadata": {},
   "outputs": [],
   "source": [
    "frs[\"pred_land\"] = si.rf_impute(\n",
    "    x_train=was[TRAIN_COLS],\n",
    "    y_train=was[IMPUTE_COLS],\n",
    "    x_new=frs[TRAIN_COLS],\n",
    "    sample_weight_train=was.weight,\n",
    ")"
   ]
  },
  {
   "cell_type": "code",
   "execution_count": 32,
   "metadata": {},
   "outputs": [],
   "source": [
    "total_land = mdf.weighted_sum(frs, \"pred_land\", \"weight\") / 1e9\n",
    "\n",
    "total_was_land = mdf.weighted_sum(was, \"est_land\", \"weight\") / 1e9\n",
    "\n",
    "frs.pred_land *= total_was_land / total_land"
   ]
  },
  {
   "cell_type": "code",
   "execution_count": 34,
   "metadata": {},
   "outputs": [],
   "source": [
    "LVT_RATE = 0.01\n",
    "pop = mdf.weighted_sum(frs, \"people\", \"weight\")\n",
    "ubi = total_was_land * LVT_RATE / pop\n",
    "frs[\"lvt\"] = frs.pred_land * LVT_RATE\n",
    "frs[\"ubi\"] = ubi * frs.people\n",
    "frs[\"new_net_income\"] = frs.net_income - frs.lvt + frs.ubi"
   ]
  },
  {
   "cell_type": "code",
   "execution_count": 35,
   "metadata": {},
   "outputs": [
    {
     "output_type": "error",
     "ename": "TypeError",
     "evalue": "poverty_rate() missing 2 required positional arguments: 'income' and 'threshold'",
     "traceback": [
      "\u001b[0;31m---------------------------------------------------------------------------\u001b[0m",
      "\u001b[0;31mTypeError\u001b[0m                                 Traceback (most recent call last)",
      "\u001b[0;32m<ipython-input-35-71dfd09ee83c>\u001b[0m in \u001b[0;36m<module>\u001b[0;34m\u001b[0m\n\u001b[0;32m----> 1\u001b[0;31m \u001b[0mfrs\u001b[0m\u001b[0;34m.\u001b[0m\u001b[0mpoverty_rate\u001b[0m\u001b[0;34m(\u001b[0m\u001b[0;34m)\u001b[0m\u001b[0;34m\u001b[0m\u001b[0;34m\u001b[0m\u001b[0m\n\u001b[0m",
      "\u001b[0;32m~/anaconda3/lib/python3.7/site-packages/microdf/generic.py\u001b[0m in \u001b[0;36mseries_function\u001b[0;34m(self, *args, **kwargs)\u001b[0m\n\u001b[1;32m    572\u001b[0m                         \u001b[0;32melse\u001b[0m\u001b[0;34m:\u001b[0m\u001b[0;34m\u001b[0m\u001b[0;34m\u001b[0m\u001b[0m\n\u001b[1;32m    573\u001b[0m                             \u001b[0mnew_kwargs\u001b[0m\u001b[0;34m[\u001b[0m\u001b[0mname\u001b[0m\u001b[0;34m]\u001b[0m \u001b[0;34m=\u001b[0m \u001b[0mvalue\u001b[0m\u001b[0;34m\u001b[0m\u001b[0;34m\u001b[0m\u001b[0m\n\u001b[0;32m--> 574\u001b[0;31m                 \u001b[0;32mreturn\u001b[0m \u001b[0mfn\u001b[0m\u001b[0;34m(\u001b[0m\u001b[0mself\u001b[0m\u001b[0;34m,\u001b[0m \u001b[0;34m*\u001b[0m\u001b[0mnew_args\u001b[0m\u001b[0;34m,\u001b[0m \u001b[0;34m**\u001b[0m\u001b[0mnew_kwargs\u001b[0m\u001b[0;34m)\u001b[0m\u001b[0;34m\u001b[0m\u001b[0;34m\u001b[0m\u001b[0m\n\u001b[0m\u001b[1;32m    575\u001b[0m \u001b[0;34m\u001b[0m\u001b[0m\n\u001b[1;32m    576\u001b[0m             \u001b[0;32mreturn\u001b[0m \u001b[0mseries_function\u001b[0m\u001b[0;34m\u001b[0m\u001b[0;34m\u001b[0m\u001b[0m\n",
      "\u001b[0;31mTypeError\u001b[0m: poverty_rate() missing 2 required positional arguments: 'income' and 'threshold'"
     ]
    }
   ],
   "source": [
    "frs.poverty_rate()"
   ]
  },
  {
   "cell_type": "code",
   "execution_count": null,
   "metadata": {},
   "outputs": [],
   "source": [
    "train, test = sklearn.model_selection.train_test_split(df)"
   ]
  }
 ],
 "metadata": {
  "interpreter": {
   "hash": "4a68920d8e8856d089b03c157a7384bba62e0986489c1fa381bbe538cda0922c"
  },
  "kernelspec": {
   "name": "python3",
   "display_name": "Python 3.7.7 64-bit ('base': conda)"
  },
  "language_info": {
   "codemirror_mode": {
    "name": "ipython",
    "version": 3
   },
   "file_extension": ".py",
   "mimetype": "text/x-python",
   "name": "python",
   "nbconvert_exporter": "python",
   "pygments_lexer": "ipython3",
   "version": "3.7.7"
  }
 },
 "nbformat": 4,
 "nbformat_minor": 4
}