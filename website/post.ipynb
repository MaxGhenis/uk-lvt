{
 "cells": [
  {
   "cell_type": "markdown",
   "metadata": {},
   "source": [
    "# Imputing land values to the FRS"
   ]
  },
  {
   "cell_type": "code",
   "execution_count": 12,
   "metadata": {},
   "outputs": [],
   "source": [
    "import plotly.express as px\n",
    "from ubicenter import format_fig\n",
    "import numpy as np\n",
    "import pandas as pd\n",
    "import microdf as mdf\n",
    "import synthimpute as si\n",
    "import sklearn"
   ]
  },
  {
   "cell_type": "code",
   "execution_count": 24,
   "metadata": {},
   "outputs": [
    {
     "output_type": "execute_result",
     "data": {
      "text/plain": [
       "0        32600.0\n",
       "1        40300.0\n",
       "2        17900.0\n",
       "3        73100.0\n",
       "4        34200.0\n",
       "          ...   \n",
       "18024    56700.0\n",
       "18025    28200.0\n",
       "18026    67300.0\n",
       "18027    24700.0\n",
       "18028    63500.0\n",
       "Name: dvtotgirR6, Length: 18029, dtype: float64"
      ]
     },
     "metadata": {},
     "execution_count": 24
    }
   ],
   "source": [
    "was.dvtotgirR6"
   ]
  },
  {
   "cell_type": "code",
   "execution_count": 25,
   "metadata": {},
   "outputs": [],
   "source": [
    "RENAMES = {\n",
    "    \"dvtotgirR6\": \"gross_income\"\n",
    "}\n",
    "\n",
    "was = pd.read_csv(\"~/was_round_6_hhold_eul_mar_20.tab\", delimiter=\"\\t\")\n",
    "was = was.replace(\" \", 0).astype(float).rename(columns=RENAMES)\n",
    "\n",
    "WAS_WEIGHT = \"R6xshhwgt\"\n",
    "\n",
    "# train, test = sklearn.model_selection.train_test_split(df)"
   ]
  },
  {
   "cell_type": "code",
   "execution_count": 15,
   "metadata": {},
   "outputs": [
    {
     "output_type": "execute_result",
     "data": {
      "text/plain": [
       "14160.955575659307"
      ]
     },
     "metadata": {},
     "execution_count": 15
    }
   ],
   "source": [
    "mdf.weighted_sum(df, \"TotWlthR6\", WAS_WEIGHT) / 1e9"
   ]
  },
  {
   "cell_type": "code",
   "execution_count": 4,
   "metadata": {},
   "outputs": [
    {
     "output_type": "execute_result",
     "data": {
      "text/plain": [
       "63.004871507828334"
      ]
     },
     "metadata": {},
     "execution_count": 4
    }
   ],
   "source": [
    "mdf.weighted_sum(df, \"DVLUKValR6_sum\", \"R6xshhwgt\") / 1e9"
   ]
  },
  {
   "cell_type": "code",
   "execution_count": 5,
   "metadata": {},
   "outputs": [
    {
     "output_type": "execute_result",
     "data": {
      "text/plain": [
       "84.2186628588207"
      ]
     },
     "metadata": {},
     "execution_count": 5
    }
   ],
   "source": [
    "mdf.weighted_sum(df, \"DVLOSValR6_sum\", \"R6xshhwgt\") / 1e9"
   ]
  },
  {
   "cell_type": "code",
   "execution_count": 17,
   "metadata": {},
   "outputs": [],
   "source": [
    "TRAIN_COLS = [\n",
    "    \"gross_income\",  # Household gross income.\n",
    "    # \"DVTotGIRW5\",  # Household net income.\n",
    "]\n",
    "\n",
    "IMPUTE_COLS = [\n",
    "    \"TotWlthR6\",  # Total wealth.\n",
    "]"
   ]
  },
  {
   "cell_type": "code",
   "execution_count": 44,
   "metadata": {},
   "outputs": [
    {
     "output_type": "stream",
     "name": "stderr",
     "text": [
      "/home/mghenis/anaconda3/lib/python3.7/site-packages/synthimpute/rf_impute.py:73: DataConversionWarning: A column-vector y was passed when a 1d array was expected. Please change the shape of y to (n_samples,), for example using ravel().\n",
      "  rf.fit(x_train, y_train, sample_weight=sample_weight_train)\n",
      "/home/mghenis/anaconda3/lib/python3.7/site-packages/ipykernel_launcher.py:5: SettingWithCopyWarning: \n",
      "A value is trying to be set on a copy of a slice from a DataFrame.\n",
      "Try using .loc[row_indexer,col_indexer] = value instead\n",
      "\n",
      "See the caveats in the documentation: https://pandas.pydata.org/pandas-docs/stable/user_guide/indexing.html#returning-a-view-versus-a-copy\n",
      "  \"\"\"\n"
     ]
    }
   ],
   "source": [
    "test[\"pred_wealth\"] = si.rf_impute(\n",
    "    x_train=train[TRAIN_COLS],\n",
    "    y_train=train[IMPUTE_COLS],\n",
    "    x_new=test[TRAIN_COLS],\n",
    "    sample_weight_train=train[WEIGHT],\n",
    ")"
   ]
  },
  {
   "cell_type": "code",
   "execution_count": 46,
   "metadata": {},
   "outputs": [
    {
     "output_type": "execute_result",
     "data": {
      "text/plain": [
       "       DVTotNIRW5   pred_wealth\n",
       "10454     17200.0  1.524809e+05\n",
       "11367     14000.0  2.516482e+05\n",
       "7552      56100.0  5.508292e+05\n",
       "17891     87400.0  1.191353e+06\n",
       "5883      38500.0  5.762272e+05\n",
       "...           ...           ...\n",
       "10066     32000.0  5.526614e+05\n",
       "18802      7680.0  1.037723e+04\n",
       "18006     47900.0  6.614380e+05\n",
       "13934     27400.0  2.970193e+05\n",
       "11951     15700.0  1.613716e+05\n",
       "\n",
       "[4702 rows x 2 columns]"
      ],
      "text/html": "<div>\n<style scoped>\n    .dataframe tbody tr th:only-of-type {\n        vertical-align: middle;\n    }\n\n    .dataframe tbody tr th {\n        vertical-align: top;\n    }\n\n    .dataframe thead th {\n        text-align: right;\n    }\n</style>\n<table border=\"1\" class=\"dataframe\">\n  <thead>\n    <tr style=\"text-align: right;\">\n      <th></th>\n      <th>DVTotNIRW5</th>\n      <th>pred_wealth</th>\n    </tr>\n  </thead>\n  <tbody>\n    <tr>\n      <th>10454</th>\n      <td>17200.0</td>\n      <td>1.524809e+05</td>\n    </tr>\n    <tr>\n      <th>11367</th>\n      <td>14000.0</td>\n      <td>2.516482e+05</td>\n    </tr>\n    <tr>\n      <th>7552</th>\n      <td>56100.0</td>\n      <td>5.508292e+05</td>\n    </tr>\n    <tr>\n      <th>17891</th>\n      <td>87400.0</td>\n      <td>1.191353e+06</td>\n    </tr>\n    <tr>\n      <th>5883</th>\n      <td>38500.0</td>\n      <td>5.762272e+05</td>\n    </tr>\n    <tr>\n      <th>...</th>\n      <td>...</td>\n      <td>...</td>\n    </tr>\n    <tr>\n      <th>10066</th>\n      <td>32000.0</td>\n      <td>5.526614e+05</td>\n    </tr>\n    <tr>\n      <th>18802</th>\n      <td>7680.0</td>\n      <td>1.037723e+04</td>\n    </tr>\n    <tr>\n      <th>18006</th>\n      <td>47900.0</td>\n      <td>6.614380e+05</td>\n    </tr>\n    <tr>\n      <th>13934</th>\n      <td>27400.0</td>\n      <td>2.970193e+05</td>\n    </tr>\n    <tr>\n      <th>11951</th>\n      <td>15700.0</td>\n      <td>1.613716e+05</td>\n    </tr>\n  </tbody>\n</table>\n<p>4702 rows × 2 columns</p>\n</div>"
     },
     "metadata": {},
     "execution_count": 46
    }
   ],
   "source": [
    "test[TRAIN_COLS + [\"pred_wealth\"]]"
   ]
  },
  {
   "cell_type": "code",
   "execution_count": 32,
   "metadata": {},
   "outputs": [],
   "source": [
    "from openfisca_uk import Microsimulation\n",
    "\n",
    "sim = Microsimulation(year=2020)"
   ]
  },
  {
   "cell_type": "code",
   "execution_count": 33,
   "metadata": {},
   "outputs": [],
   "source": [
    "frs = sim.df([\"gross_income\", \"num_adults\"], map_to=\"household\")"
   ]
  },
  {
   "cell_type": "code",
   "execution_count": 19,
   "metadata": {},
   "outputs": [
    {
     "output_type": "error",
     "ename": "AttributeError",
     "evalue": "'DataFrame' object has no attribute 'gross_income'",
     "traceback": [
      "\u001b[0;31m---------------------------------------------------------------------------\u001b[0m",
      "\u001b[0;31mAttributeError\u001b[0m                            Traceback (most recent call last)",
      "\u001b[0;32m<ipython-input-19-040f1e7e0ad8>\u001b[0m in \u001b[0;36m<module>\u001b[0;34m\u001b[0m\n\u001b[0;32m----> 1\u001b[0;31m \u001b[0mwas\u001b[0m\u001b[0;34m.\u001b[0m\u001b[0mgross_income\u001b[0m\u001b[0;34m\u001b[0m\u001b[0;34m\u001b[0m\u001b[0m\n\u001b[0m",
      "\u001b[0;32m~/anaconda3/lib/python3.7/site-packages/pandas/core/generic.py\u001b[0m in \u001b[0;36m__getattr__\u001b[0;34m(self, name)\u001b[0m\n\u001b[1;32m   5137\u001b[0m             \u001b[0;32mif\u001b[0m \u001b[0mself\u001b[0m\u001b[0;34m.\u001b[0m\u001b[0m_info_axis\u001b[0m\u001b[0;34m.\u001b[0m\u001b[0m_can_hold_identifiers_and_holds_name\u001b[0m\u001b[0;34m(\u001b[0m\u001b[0mname\u001b[0m\u001b[0;34m)\u001b[0m\u001b[0;34m:\u001b[0m\u001b[0;34m\u001b[0m\u001b[0;34m\u001b[0m\u001b[0m\n\u001b[1;32m   5138\u001b[0m                 \u001b[0;32mreturn\u001b[0m \u001b[0mself\u001b[0m\u001b[0;34m[\u001b[0m\u001b[0mname\u001b[0m\u001b[0;34m]\u001b[0m\u001b[0;34m\u001b[0m\u001b[0;34m\u001b[0m\u001b[0m\n\u001b[0;32m-> 5139\u001b[0;31m             \u001b[0;32mreturn\u001b[0m \u001b[0mobject\u001b[0m\u001b[0;34m.\u001b[0m\u001b[0m__getattribute__\u001b[0m\u001b[0;34m(\u001b[0m\u001b[0mself\u001b[0m\u001b[0;34m,\u001b[0m \u001b[0mname\u001b[0m\u001b[0;34m)\u001b[0m\u001b[0;34m\u001b[0m\u001b[0;34m\u001b[0m\u001b[0m\n\u001b[0m\u001b[1;32m   5140\u001b[0m \u001b[0;34m\u001b[0m\u001b[0m\n\u001b[1;32m   5141\u001b[0m     \u001b[0;32mdef\u001b[0m \u001b[0m__setattr__\u001b[0m\u001b[0;34m(\u001b[0m\u001b[0mself\u001b[0m\u001b[0;34m,\u001b[0m \u001b[0mname\u001b[0m\u001b[0;34m:\u001b[0m \u001b[0mstr\u001b[0m\u001b[0;34m,\u001b[0m \u001b[0mvalue\u001b[0m\u001b[0;34m)\u001b[0m \u001b[0;34m->\u001b[0m \u001b[0;32mNone\u001b[0m\u001b[0;34m:\u001b[0m\u001b[0;34m\u001b[0m\u001b[0;34m\u001b[0m\u001b[0m\n",
      "\u001b[0;31mAttributeError\u001b[0m: 'DataFrame' object has no attribute 'gross_income'"
     ]
    }
   ],
   "source": [
    "was.gross_income\n"
   ]
  },
  {
   "cell_type": "code",
   "execution_count": 26,
   "metadata": {},
   "outputs": [],
   "source": [
    "frs[\"pred_wealth\"] = si.rf_impute(\n",
    "    x_train=was[TRAIN_COLS],\n",
    "    y_train=was[IMPUTE_COLS],\n",
    "    x_new=frs[TRAIN_COLS],\n",
    "    sample_weight_train=was[WAS_WEIGHT],\n",
    ")"
   ]
  },
  {
   "cell_type": "code",
   "execution_count": 31,
   "metadata": {},
   "outputs": [
    {
     "output_type": "execute_result",
     "data": {
      "text/plain": [
       "16508.52899089139"
      ]
     },
     "metadata": {},
     "execution_count": 31
    }
   ],
   "source": [
    "mdf.weighted_sum(frs, \"pred_wealth\", \"weight\") / 1e9"
   ]
  }
 ],
 "metadata": {
  "interpreter": {
   "hash": "4a68920d8e8856d089b03c157a7384bba62e0986489c1fa381bbe538cda0922c"
  },
  "kernelspec": {
   "name": "python3",
   "display_name": "Python 3.7.7 64-bit ('base': conda)"
  },
  "language_info": {
   "codemirror_mode": {
    "name": "ipython",
    "version": 3
   },
   "file_extension": ".py",
   "mimetype": "text/x-python",
   "name": "python",
   "nbconvert_exporter": "python",
   "pygments_lexer": "ipython3",
   "version": "3.7.7"
  }
 },
 "nbformat": 4,
 "nbformat_minor": 4
}